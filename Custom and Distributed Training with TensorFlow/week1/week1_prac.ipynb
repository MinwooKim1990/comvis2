{
 "cells": [
  {
   "cell_type": "code",
   "execution_count": 1,
   "id": "4972edb3-596f-4fb9-ac2f-dfa7b4aa62b0",
   "metadata": {},
   "outputs": [],
   "source": [
    "try:\n",
    "    # %tensorflow_version only exists in Colab.\n",
    "    %tensorflow_version 2.x\n",
    "except Exception:\n",
    "    pass\n",
    "\n",
    "import tensorflow as tf\n",
    "import numpy as np"
   ]
  },
  {
   "cell_type": "code",
   "execution_count": 2,
   "id": "aa03859f-d95a-4701-acb1-e5be762fadae",
   "metadata": {},
   "outputs": [
    {
     "data": {
      "text/plain": [
       "array([ 0,  1,  2,  3,  4,  5,  6,  7,  8,  9, 10, 11, 12, 13, 14, 15, 16,\n",
       "       17, 18, 19, 20, 21, 22, 23, 24])"
      ]
     },
     "execution_count": 2,
     "metadata": {},
     "output_type": "execute_result"
    }
   ],
   "source": [
    "# Create a 1D uint8 NumPy array comprising of first 25 natural numbers\n",
    "x = np.arange(0, 25)\n",
    "x"
   ]
  },
  {
   "cell_type": "code",
   "execution_count": 3,
   "id": "47e44562-97ee-471c-8cef-d8bd62643712",
   "metadata": {},
   "outputs": [
    {
     "name": "stdout",
     "output_type": "stream",
     "text": [
      "Metal device set to: Apple M1 Max\n"
     ]
    },
    {
     "name": "stderr",
     "output_type": "stream",
     "text": [
      "2022-12-28 14:29:20.009788: I tensorflow/core/common_runtime/pluggable_device/pluggable_device_factory.cc:305] Could not identify NUMA node of platform GPU ID 0, defaulting to 0. Your kernel may not have been built with NUMA support.\n",
      "2022-12-28 14:29:20.010978: I tensorflow/core/common_runtime/pluggable_device/pluggable_device_factory.cc:271] Created TensorFlow device (/job:localhost/replica:0/task:0/device:GPU:0 with 0 MB memory) -> physical PluggableDevice (device: 0, name: METAL, pci bus id: <undefined>)\n"
     ]
    },
    {
     "data": {
      "text/plain": [
       "<tf.Tensor: shape=(25,), dtype=int64, numpy=\n",
       "array([ 0,  1,  2,  3,  4,  5,  6,  7,  8,  9, 10, 11, 12, 13, 14, 15, 16,\n",
       "       17, 18, 19, 20, 21, 22, 23, 24])>"
      ]
     },
     "execution_count": 3,
     "metadata": {},
     "output_type": "execute_result"
    }
   ],
   "source": [
    "# Convert NumPy array to Tensor using `tf.constant`\n",
    "x = tf.constant(x)\n",
    "x"
   ]
  },
  {
   "cell_type": "code",
   "execution_count": 4,
   "id": "f5bae54c-d652-4385-b907-f1565a6a241d",
   "metadata": {},
   "outputs": [
    {
     "data": {
      "text/plain": [
       "<tf.Tensor: shape=(25,), dtype=int64, numpy=\n",
       "array([  0,   1,   4,   9,  16,  25,  36,  49,  64,  81, 100, 121, 144,\n",
       "       169, 196, 225, 256, 289, 324, 361, 400, 441, 484, 529, 576])>"
      ]
     },
     "execution_count": 4,
     "metadata": {},
     "output_type": "execute_result"
    }
   ],
   "source": [
    "# Square the input tensor x\n",
    "x = tf.square(x)\n",
    "x"
   ]
  },
  {
   "cell_type": "code",
   "execution_count": 5,
   "id": "a827461e-d8d2-4510-a967-5b3a25c280f9",
   "metadata": {},
   "outputs": [
    {
     "data": {
      "text/plain": [
       "<tf.Tensor: shape=(5, 5), dtype=int64, numpy=\n",
       "array([[  0,   1,   4,   9,  16],\n",
       "       [ 25,  36,  49,  64,  81],\n",
       "       [100, 121, 144, 169, 196],\n",
       "       [225, 256, 289, 324, 361],\n",
       "       [400, 441, 484, 529, 576]])>"
      ]
     },
     "execution_count": 5,
     "metadata": {},
     "output_type": "execute_result"
    }
   ],
   "source": [
    "# Reshape tensor x into a 5 x 5 matrix. \n",
    "x = tf.reshape(x, (5, 5))\n",
    "x"
   ]
  },
  {
   "cell_type": "code",
   "execution_count": 6,
   "id": "d7934b98-9a0a-43ca-8da4-38fd117a9dce",
   "metadata": {},
   "outputs": [
    {
     "data": {
      "text/plain": [
       "<tf.Tensor: shape=(2, 2), dtype=int32, numpy=\n",
       "array([[1, 2],\n",
       "       [3, 4]], dtype=int32)>"
      ]
     },
     "execution_count": 6,
     "metadata": {},
     "output_type": "execute_result"
    }
   ],
   "source": [
    "# Try this and look at the error\n",
    "# Try to change the input to `shape` to avoid an error\n",
    "tmp = tf.constant([1,2,3,4])\n",
    "tf.reshape(tmp, shape=(2,2))"
   ]
  },
  {
   "cell_type": "code",
   "execution_count": 7,
   "id": "c699f8bb-e9a4-4e25-8dec-a11950e64117",
   "metadata": {},
   "outputs": [
    {
     "data": {
      "text/plain": [
       "<tf.Tensor: shape=(5, 5), dtype=float32, numpy=\n",
       "array([[  0.,   1.,   4.,   9.,  16.],\n",
       "       [ 25.,  36.,  49.,  64.,  81.],\n",
       "       [100., 121., 144., 169., 196.],\n",
       "       [225., 256., 289., 324., 361.],\n",
       "       [400., 441., 484., 529., 576.]], dtype=float32)>"
      ]
     },
     "execution_count": 7,
     "metadata": {},
     "output_type": "execute_result"
    }
   ],
   "source": [
    "# Cast tensor x into float32. Notice the change in the dtype.\n",
    "x = tf.cast(x, tf.float32)\n",
    "x"
   ]
  },
  {
   "cell_type": "code",
   "execution_count": 8,
   "id": "0d827d17-249e-4d5a-9c36-462571fb9c7d",
   "metadata": {},
   "outputs": [
    {
     "data": {
      "text/plain": [
       "<tf.Tensor: shape=(), dtype=float32, numpy=2.0>"
      ]
     },
     "execution_count": 8,
     "metadata": {},
     "output_type": "execute_result"
    }
   ],
   "source": [
    "# Let's define a constant and see how broadcasting works in the following cell.\n",
    "y = tf.constant(2, dtype=tf.float32)\n",
    "y"
   ]
  },
  {
   "cell_type": "code",
   "execution_count": 9,
   "id": "dffe3963-1349-4d10-a554-5ad40d604097",
   "metadata": {},
   "outputs": [
    {
     "data": {
      "text/plain": [
       "<tf.Tensor: shape=(5, 5), dtype=float32, numpy=\n",
       "array([[   0.,    2.,    8.,   18.,   32.],\n",
       "       [  50.,   72.,   98.,  128.,  162.],\n",
       "       [ 200.,  242.,  288.,  338.,  392.],\n",
       "       [ 450.,  512.,  578.,  648.,  722.],\n",
       "       [ 800.,  882.,  968., 1058., 1152.]], dtype=float32)>"
      ]
     },
     "execution_count": 9,
     "metadata": {},
     "output_type": "execute_result"
    }
   ],
   "source": [
    "# Multiply tensor `x` and `y`. `y` is multiplied to each element of x.\n",
    "result = tf.multiply(x, y)\n",
    "result"
   ]
  },
  {
   "cell_type": "code",
   "execution_count": 10,
   "id": "10419db9-77e9-4bf8-bfce-74f4287ae4d2",
   "metadata": {},
   "outputs": [
    {
     "data": {
      "text/plain": [
       "<tf.Tensor: shape=(5,), dtype=float32, numpy=array([1., 2., 3., 4., 5.], dtype=float32)>"
      ]
     },
     "execution_count": 10,
     "metadata": {},
     "output_type": "execute_result"
    }
   ],
   "source": [
    "# Now let's define an array that matches the number of row elements in the `x` array.\n",
    "y = tf.constant([1, 2, 3, 4, 5], dtype=tf.float32)\n",
    "y"
   ]
  },
  {
   "cell_type": "code",
   "execution_count": 11,
   "id": "277828a5-416f-40b5-8caa-c51b162eef30",
   "metadata": {},
   "outputs": [
    {
     "data": {
      "text/plain": [
       "<tf.Tensor: shape=(5, 5), dtype=float32, numpy=\n",
       "array([[  0.,   1.,   4.,   9.,  16.],\n",
       "       [ 25.,  36.,  49.,  64.,  81.],\n",
       "       [100., 121., 144., 169., 196.],\n",
       "       [225., 256., 289., 324., 361.],\n",
       "       [400., 441., 484., 529., 576.]], dtype=float32)>"
      ]
     },
     "execution_count": 11,
     "metadata": {},
     "output_type": "execute_result"
    }
   ],
   "source": [
    "# Let's see first the contents of `x` again.\n",
    "x"
   ]
  },
  {
   "cell_type": "code",
   "execution_count": 12,
   "id": "a67351dd-e53e-4219-8ec3-95af94067a8c",
   "metadata": {},
   "outputs": [
    {
     "data": {
      "text/plain": [
       "<tf.Tensor: shape=(5, 5), dtype=float32, numpy=\n",
       "array([[  1.,   3.,   7.,  13.,  21.],\n",
       "       [ 26.,  38.,  52.,  68.,  86.],\n",
       "       [101., 123., 147., 173., 201.],\n",
       "       [226., 258., 292., 328., 366.],\n",
       "       [401., 443., 487., 533., 581.]], dtype=float32)>"
      ]
     },
     "execution_count": 12,
     "metadata": {},
     "output_type": "execute_result"
    }
   ],
   "source": [
    "# Add tensor `x` and `y`. `y` is added element wise to each row of `x`.\n",
    "result = x + y\n",
    "result"
   ]
  },
  {
   "cell_type": "code",
   "execution_count": 13,
   "id": "b1f3a86b-0268-4b62-8427-a20db01aa1ee",
   "metadata": {},
   "outputs": [
    {
     "data": {
      "text/plain": [
       "<tf.Tensor: shape=(2, 2), dtype=int32, numpy=\n",
       "array([[1, 2],\n",
       "       [3, 4]], dtype=int32)>"
      ]
     },
     "execution_count": 13,
     "metadata": {},
     "output_type": "execute_result"
    }
   ],
   "source": [
    "tf.constant([1,2,3,4], shape=(2,2))"
   ]
  },
  {
   "cell_type": "code",
   "execution_count": 14,
   "id": "d2716fa5-33e0-4645-a426-99ddf6b2d652",
   "metadata": {},
   "outputs": [
    {
     "name": "stdout",
     "output_type": "stream",
     "text": [
      "In this `tf.Variable` creation, the initial value's shape ((4,)) is not compatible with the explicitly supplied `shape` argument ((2, 2)).\n"
     ]
    }
   ],
   "source": [
    "try:\n",
    "    # This will produce a ValueError\n",
    "    tf.Variable([1,2,3,4], shape=(2,2))\n",
    "except ValueError as v:\n",
    "    # See what the ValueError says\n",
    "    print(v)"
   ]
  },
  {
   "cell_type": "code",
   "execution_count": 36,
   "id": "6d1c0ea3-63ab-4243-9d8c-0b2ba8eb2b4d",
   "metadata": {},
   "outputs": [],
   "source": [
    "import numpy as np\n",
    "a=[-1,-8,0,5,-9]"
   ]
  },
  {
   "cell_type": "code",
   "execution_count": 44,
   "id": "c2729974-1318-4b14-b11d-0f1145cd2eb2",
   "metadata": {},
   "outputs": [
    {
     "name": "stdout",
     "output_type": "stream",
     "text": [
      "[-16, -6, -1]\n",
      "0\n"
     ]
    }
   ],
   "source": [
    "import numpy as np\n",
    "a=[-1,-4,-5]\n",
    "\n",
    "l=len(a)\n",
    "a.sort()\n",
    "a1=np.array(a)\n",
    "sco=[]\n",
    "for i in range(l):\n",
    "    b=np.array(range(1,l+1-i))\n",
    "    sco.append(sum(a*b))\n",
    "    del a[0]\n",
    "print(sco)\n",
    "msco=np.max(sco)\n",
    "if msco <= 0 :\n",
    "    print(0)\n",
    "else:\n",
    "    print(msco)\n",
    "    \n"
   ]
  },
  {
   "cell_type": "code",
   "execution_count": 45,
   "id": "4bad7447-1876-4851-bbca-cd61f1d158a1",
   "metadata": {},
   "outputs": [],
   "source": [
    "import tensorflow as tf"
   ]
  },
  {
   "cell_type": "code",
   "execution_count": 46,
   "id": "88188769-7ee3-4e3e-b2df-929738a82f9a",
   "metadata": {},
   "outputs": [
    {
     "name": "stdout",
     "output_type": "stream",
     "text": [
      "tf.Tensor(\n",
      "[[8. 8.]\n",
      " [8. 8.]], shape=(2, 2), dtype=float32)\n"
     ]
    }
   ],
   "source": [
    "# Define a 2x2 array of 1's\n",
    "x = tf.ones((2,2))\n",
    "\n",
    "with tf.GradientTape() as t:\n",
    "    # Record the actions performed on tensor x with `watch`\n",
    "    t.watch(x) \n",
    "\n",
    "    # Define y as the sum of the elements in x\n",
    "    y =  tf.reduce_sum(x)\n",
    "\n",
    "    # Let z be the square of y\n",
    "    z = tf.square(y) \n",
    "\n",
    "# Get the derivative of z wrt the original input tensor x\n",
    "dz_dx = t.gradient(z, x)\n",
    "\n",
    "# Print our result\n",
    "print(dz_dx)"
   ]
  },
  {
   "cell_type": "code",
   "execution_count": 47,
   "id": "53d9c992-90d5-471a-86bb-2f1a3d81b071",
   "metadata": {},
   "outputs": [
    {
     "name": "stdout",
     "output_type": "stream",
     "text": [
      "tf.Tensor(108.0, shape=(), dtype=float32)\n"
     ]
    }
   ],
   "source": [
    "x = tf.constant(3.0)\n",
    "\n",
    "# Notice that persistent is False by default\n",
    "with tf.GradientTape() as t:\n",
    "    t.watch(x)\n",
    "    \n",
    "    # y = x^2\n",
    "    y = x * x\n",
    "    \n",
    "    # z = y^2\n",
    "    z = y * y\n",
    "\n",
    "# Compute dz/dx. 4 * x^3 at x = 3 --> 108.0\n",
    "dz_dx = t.gradient(z, x)\n",
    "print(dz_dx)"
   ]
  },
  {
   "cell_type": "code",
   "execution_count": 48,
   "id": "688269fc-9317-424f-ab98-27ff24dc934f",
   "metadata": {},
   "outputs": [
    {
     "name": "stdout",
     "output_type": "stream",
     "text": [
      "The error message you get is:\n",
      "A non-persistent GradientTape can only be used to compute one set of gradients (or jacobians)\n"
     ]
    }
   ],
   "source": [
    "# If you try to compute dy/dx after the gradient tape has expired:\n",
    "try:\n",
    "    dy_dx = t.gradient(y, x)  # 6.0\n",
    "    print(dy_dx)\n",
    "except RuntimeError as e:\n",
    "    print(\"The error message you get is:\")\n",
    "    print(e)"
   ]
  },
  {
   "cell_type": "code",
   "execution_count": 49,
   "id": "1f389580-83d3-4186-8b62-651deb732c86",
   "metadata": {},
   "outputs": [
    {
     "name": "stdout",
     "output_type": "stream",
     "text": [
      "tf.Tensor(108.0, shape=(), dtype=float32)\n"
     ]
    }
   ],
   "source": [
    "x = tf.constant(3.0)\n",
    "\n",
    "# Set persistent=True so that you can reuse the tape\n",
    "with tf.GradientTape(persistent=True) as t:\n",
    "    t.watch(x)\n",
    "    \n",
    "    # y = x^2\n",
    "    y = x * x\n",
    "    \n",
    "    # z = y^2\n",
    "    z = y * y\n",
    "\n",
    "# Compute dz/dx. 4 * x^3 at x = 3 --> 108.0\n",
    "dz_dx = t.gradient(z, x)\n",
    "print(dz_dx)"
   ]
  },
  {
   "cell_type": "code",
   "execution_count": 50,
   "id": "36e0bd5f-72cd-400b-a38b-5b0479e274d9",
   "metadata": {},
   "outputs": [
    {
     "name": "stdout",
     "output_type": "stream",
     "text": [
      "tf.Tensor(6.0, shape=(), dtype=float32)\n"
     ]
    }
   ],
   "source": [
    "# You can still compute dy/dx because of the persistent flag.\n",
    "dy_dx = t.gradient(y, x)  # 6.0\n",
    "print(dy_dx)"
   ]
  },
  {
   "cell_type": "code",
   "execution_count": 51,
   "id": "4362f980-6ddc-4555-8633-2e579acdbf49",
   "metadata": {},
   "outputs": [],
   "source": [
    "# Drop the reference to the tape\n",
    "del t  "
   ]
  },
  {
   "cell_type": "code",
   "execution_count": 52,
   "id": "1d97278f-6b51-4d71-9a73-371ea7b61752",
   "metadata": {},
   "outputs": [
    {
     "name": "stdout",
     "output_type": "stream",
     "text": [
      "tf.Tensor(3.0, shape=(), dtype=float32)\n",
      "tf.Tensor(6.0, shape=(), dtype=float32)\n"
     ]
    }
   ],
   "source": [
    "x = tf.Variable(1.0)\n",
    "\n",
    "with tf.GradientTape() as tape_2:\n",
    "    with tf.GradientTape() as tape_1:\n",
    "        y = x * x * x\n",
    "    \n",
    "    # The first gradient calculation should occur at least\n",
    "    # within the outer with block\n",
    "    dy_dx = tape_1.gradient(y, x)\n",
    "d2y_dx2 = tape_2.gradient(dy_dx, x)\n",
    "\n",
    "print(dy_dx)\n",
    "print(d2y_dx2)"
   ]
  },
  {
   "cell_type": "code",
   "execution_count": 53,
   "id": "5af1c4d2-f592-4f03-a8ed-64f63f65832d",
   "metadata": {},
   "outputs": [
    {
     "name": "stdout",
     "output_type": "stream",
     "text": [
      "tf.Tensor(3.0, shape=(), dtype=float32)\n",
      "tf.Tensor(6.0, shape=(), dtype=float32)\n"
     ]
    }
   ],
   "source": [
    "x = tf.Variable(1.0)\n",
    "\n",
    "with tf.GradientTape() as tape_2:\n",
    "    with tf.GradientTape() as tape_1:\n",
    "        y = x * x * x\n",
    "    \n",
    "        # The first gradient calculation can also be within the inner with block\n",
    "        dy_dx = tape_1.gradient(y, x)\n",
    "d2y_dx2 = tape_2.gradient(dy_dx, x)\n",
    "\n",
    "print(dy_dx)\n",
    "print(d2y_dx2)"
   ]
  },
  {
   "cell_type": "code",
   "execution_count": 54,
   "id": "55d482d5-69b4-4b0a-9f85-a720e2d475ca",
   "metadata": {},
   "outputs": [
    {
     "name": "stdout",
     "output_type": "stream",
     "text": [
      "tf.Tensor(3.0, shape=(), dtype=float32)\n",
      "None\n"
     ]
    }
   ],
   "source": [
    "x = tf.Variable(1.0)\n",
    "\n",
    "with tf.GradientTape() as tape_2:\n",
    "    with tf.GradientTape() as tape_1:\n",
    "        y = x * x * x\n",
    "\n",
    "# The first gradient call is outside the outer with block\n",
    "# so the tape will expire after this\n",
    "dy_dx = tape_1.gradient(y, x)\n",
    "\n",
    "# The tape is now expired and the gradient output will be `None`\n",
    "d2y_dx2 = tape_2.gradient(dy_dx, x)\n",
    "\n",
    "print(dy_dx)\n",
    "print(d2y_dx2)"
   ]
  },
  {
   "cell_type": "code",
   "execution_count": 56,
   "id": "fef5fa2c-7ac1-40c9-ad69-3124e98edb9a",
   "metadata": {},
   "outputs": [
    {
     "name": "stdout",
     "output_type": "stream",
     "text": [
      "tf.Tensor(3.0, shape=(), dtype=float32)\n",
      "None\n"
     ]
    }
   ],
   "source": [
    "x = tf.Variable(1.0)\n",
    "\n",
    "# Setting persistent=True still won't work\n",
    "with tf.GradientTape(persistent=True) as tape_2:\n",
    "    # Setting persistent=True still won't work\n",
    "    with tf.GradientTape(persistent=True) as tape_1:\n",
    "        y = x * x * x\n",
    "\n",
    "# The first gradient call is outside the outer with block\n",
    "# so the tape will expire after this\n",
    "dy_dx = tape_1.gradient(y, x)\n",
    "\n",
    "# the output will be `None`\n",
    "d2y_dx2 = tape_2.gradient(dy_dx, x)\n",
    "\n",
    "print(dy_dx)\n",
    "print(d2y_dx2)"
   ]
  },
  {
   "cell_type": "code",
   "execution_count": 57,
   "id": "88388ae0-cb31-4402-89e0-51d7cf94ba21",
   "metadata": {},
   "outputs": [
    {
     "name": "stdout",
     "output_type": "stream",
     "text": [
      "tf.Tensor(3.0, shape=(), dtype=float32)\n",
      "tf.Tensor(6.0, shape=(), dtype=float32)\n"
     ]
    }
   ],
   "source": [
    "x = tf.Variable(1.0)\n",
    "\n",
    "with tf.GradientTape() as tape_2:\n",
    "    with tf.GradientTape() as tape_1:\n",
    "        y = x * x * x\n",
    "\n",
    "        dy_dx = tape_1.gradient(y, x)\n",
    "        \n",
    "        # this is acceptable\n",
    "        d2y_dx2 = tape_2.gradient(dy_dx, x)\n",
    "\n",
    "print(dy_dx)\n",
    "print(d2y_dx2)"
   ]
  },
  {
   "cell_type": "code",
   "execution_count": 58,
   "id": "531f8a32-1fd1-4777-a574-0f493b6113ce",
   "metadata": {},
   "outputs": [
    {
     "name": "stdout",
     "output_type": "stream",
     "text": [
      "tf.Tensor(3.0, shape=(), dtype=float32)\n",
      "tf.Tensor(6.0, shape=(), dtype=float32)\n"
     ]
    }
   ],
   "source": [
    "x = tf.Variable(1.0)\n",
    "\n",
    "with tf.GradientTape() as tape_2:\n",
    "    with tf.GradientTape() as tape_1:\n",
    "        y = x * x * x\n",
    "\n",
    "        dy_dx = tape_1.gradient(y, x)\n",
    "        \n",
    "    # this is also acceptable\n",
    "    d2y_dx2 = tape_2.gradient(dy_dx, x)\n",
    "\n",
    "print(dy_dx)\n",
    "print(d2y_dx2)"
   ]
  },
  {
   "cell_type": "code",
   "execution_count": 59,
   "id": "d07efb1f-a559-4011-af10-b6355eb7474a",
   "metadata": {},
   "outputs": [
    {
     "name": "stdout",
     "output_type": "stream",
     "text": [
      "tf.Tensor(3.0, shape=(), dtype=float32)\n",
      "tf.Tensor(6.0, shape=(), dtype=float32)\n"
     ]
    }
   ],
   "source": [
    "x = tf.Variable(1.0)\n",
    "\n",
    "with tf.GradientTape() as tape_2:\n",
    "    with tf.GradientTape() as tape_1:\n",
    "        y = x * x * x\n",
    "\n",
    "        dy_dx = tape_1.gradient(y, x)\n",
    "        \n",
    "# this is also acceptable\n",
    "d2y_dx2 = tape_2.gradient(dy_dx, x)\n",
    "\n",
    "print(dy_dx)\n",
    "print(d2y_dx2)"
   ]
  },
  {
   "cell_type": "code",
   "execution_count": 63,
   "id": "a56b8558-4aa5-42bc-9384-b0ee1624a597",
   "metadata": {},
   "outputs": [
    {
     "name": "stdout",
     "output_type": "stream",
     "text": [
      "tf.Tensor(\n",
      "[[5 7]\n",
      " [2 1]], shape=(2, 2), dtype=int32)\n",
      "tf.Tensor(\n",
      "[[7 9]\n",
      " [4 3]], shape=(2, 2), dtype=int32)\n",
      "tf.Tensor(\n",
      "[[49 81]\n",
      " [16  9]], shape=(2, 2), dtype=int32)\n",
      "tf.Tensor(155, shape=(), dtype=int32)\n"
     ]
    }
   ],
   "source": [
    "a=tf.constant([[5,7],[2,1]])\n",
    "print(a)\n",
    "b=tf.add(a,2)\n",
    "print(b)\n",
    "c=b**2\n",
    "print(c)\n",
    "d=tf.reduce_sum(c)\n",
    "print(d)"
   ]
  },
  {
   "cell_type": "code",
   "execution_count": null,
   "id": "f84ffd91-4052-4eaa-a0c3-574ef8b1b03d",
   "metadata": {},
   "outputs": [],
   "source": []
  }
 ],
 "metadata": {
  "kernelspec": {
   "display_name": "tensor2",
   "language": "python",
   "name": "tensor2"
  },
  "language_info": {
   "codemirror_mode": {
    "name": "ipython",
    "version": 3
   },
   "file_extension": ".py",
   "mimetype": "text/x-python",
   "name": "python",
   "nbconvert_exporter": "python",
   "pygments_lexer": "ipython3",
   "version": "3.8.15"
  }
 },
 "nbformat": 4,
 "nbformat_minor": 5
}
